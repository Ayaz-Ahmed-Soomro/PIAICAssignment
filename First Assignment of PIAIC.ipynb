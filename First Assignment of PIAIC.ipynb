{
 "cells": [
  {
   "cell_type": "markdown",
   "metadata": {},
   "source": [
    "1. Calculate Area of a Circle   \n",
    "Write a Python program which accepts the radius of a circle from the user and compute the area."
   ]
  },
  {
   "cell_type": "code",
   "execution_count": 1,
   "metadata": {},
   "outputs": [
    {
     "name": "stdout",
     "output_type": "stream",
     "text": [
      "Input Radius: 0.5\n",
      "Area of Circle with Radius 0.5 is 0.7853981633974483\n"
     ]
    }
   ],
   "source": [
    "# Area of Circle A = pi(r)*2\n",
    "from math import pi\n",
    "r = float(input(\"Input Radius: \"))\n",
    "Area = pi * r * r \n",
    "print(f\"Area of Circle with Radius {r} is {Area}\")"
   ]
  },
  {
   "cell_type": "markdown",
   "metadata": {},
   "source": [
    "2. Check Number either positive, negative or zero    \n",
    "Write a Python program to check if a number is positive, negative or zero"
   ]
  },
  {
   "cell_type": "code",
   "execution_count": 6,
   "metadata": {},
   "outputs": [
    {
     "name": "stdout",
     "output_type": "stream",
     "text": [
      "Enter Number: 0\n",
      "Zero Entered\n"
     ]
    }
   ],
   "source": [
    "n = int(input(\"Enter Number: \"))\n",
    "if n < 0:\n",
    "    print(\"Negative Number Entered\")\n",
    "elif n > 0:\n",
    "    print(\"Positive Number Entered\")\n",
    "else: \n",
    "    print(\"Zero Entered\")"
   ]
  },
  {
   "cell_type": "markdown",
   "metadata": {},
   "source": [
    "3. Divisibility Check of two numbers   \n",
    "Write a Python program to check whether a number is completely divisible by another number. Accept two integer values form the user"
   ]
  },
  {
   "cell_type": "code",
   "execution_count": 8,
   "metadata": {},
   "outputs": [
    {
     "name": "stdout",
     "output_type": "stream",
     "text": [
      "Enter Numerator: 7\n",
      "Enter Denominator: 4\n",
      "Number 7 is not Completely divisible by 4 \n"
     ]
    }
   ],
   "source": [
    "num = int(input(\"Enter Numerator: \"))\n",
    "denum = int(input(\"Enter Denominator: \"))\n",
    "if num % denum == 0:\n",
    "    print(f\"Number {num} is completely divisible by {denum}\")\n",
    "else:\n",
    "    print(f\"Number {num} is not Completely divisible by {denum} \")"
   ]
  },
  {
   "cell_type": "markdown",
   "metadata": {},
   "source": [
    "4. Days Calculator   \n",
    "Write a Python program to calculate number of days between two dates"
   ]
  },
  {
   "cell_type": "code",
   "execution_count": 31,
   "metadata": {},
   "outputs": [
    {
     "name": "stdout",
     "output_type": "stream",
     "text": [
      "Enter a date in (dd/mm/yy) format: 12/12/2018\n",
      "Enter a date in (dd/mm/yy) format: 16/12/2018\n",
      "there are 4 days, 0:00:00 days in between 2018-12-12 00:00:00 and 2018-12-16 00:00:00 \n"
     ]
    }
   ],
   "source": [
    "from datetime import datetime, date\n",
    "date_format = \"%d/%m/%Y\"\n",
    "\n",
    "d1 = datetime.strptime(input(\"Enter a date in (dd/mm/yy) format: \"), date_format)\n",
    "d2 = datetime.strptime(input(\"Enter a date in (dd/mm/yy) format: \"), date_format)\n",
    "delta = d2 - d1\n",
    "print(f\"there are {delta} days in between {d1} and {d2} \" )"
   ]
  },
  {
   "cell_type": "markdown",
   "metadata": {},
   "source": [
    "4. Second attempt to improve the results..    \n",
    "Write a Python program to calculate number of days between two dates"
   ]
  },
  {
   "cell_type": "code",
   "execution_count": 7,
   "metadata": {},
   "outputs": [
    {
     "name": "stdout",
     "output_type": "stream",
     "text": [
      "Date1: 12/12/2018\n",
      "Date1: 16/12/2018\n",
      "there are 4 days in between 2018-12-12 00:00:00 and 2018-12-16 00:00:00 \n"
     ]
    }
   ],
   "source": [
    "import datetime\n",
    "a = datetime.datetime.strptime(input(\"Date1: \"),\"%d/%m/%Y\")\n",
    "b = datetime.datetime.strptime(input(\"Date2: \"),\"%d/%m/%Y\")\n",
    "print(f\"there are {(b-a).days} days in between {a} and {b} \" )"
   ]
  },
  {
   "cell_type": "markdown",
   "metadata": {},
   "source": [
    "5. Calculate Volume of a sphere     \n",
    "Write a Python program to get the volume of a sphere, please take the radius as input from user"
   ]
  },
  {
   "cell_type": "code",
   "execution_count": 9,
   "metadata": {},
   "outputs": [
    {
     "name": "stdout",
     "output_type": "stream",
     "text": [
      "Enter Radius of sphere:1\n",
      "Valume of the sphere with Radius 1 is 4.1887902047863905\n"
     ]
    }
   ],
   "source": [
    "from math import pi\n",
    "r = int(input(\"Enter Radius of sphere:\"))\n",
    "volume = 4/3 * pi * r**3\n",
    "print(f\"Valume of the sphere with Radius {r} is {volume}\")"
   ]
  },
  {
   "cell_type": "markdown",
   "metadata": {},
   "source": [
    "6. Copy string n times    \n",
    "Write a Python program to get a string which is n (non-negative integer) copies of a given string."
   ]
  },
  {
   "cell_type": "code",
   "execution_count": null,
   "metadata": {},
   "outputs": [],
   "source": [
    "new = ''\n",
    "strng = input(\"Enter string: \")\n",
    "n = int(input(\"how many copies of string you need: \"))\n",
    "for no in range(1,n+1):\n",
    "    new = new + strng\n",
    "print(f\"{n} copies of {strng} are \",new, end= '')\n"
   ]
  },
  {
   "cell_type": "markdown",
   "metadata": {},
   "source": [
    "7. Check if number is Even or Odd      \n",
    "Write a Python program to find whether a given number (accept from the user) is even or odd, print out an appropriate message to the user"
   ]
  },
  {
   "cell_type": "code",
   "execution_count": null,
   "metadata": {},
   "outputs": [],
   "source": [
    "no = int(input(\"Enter Number: \"))\n",
    "if no % 2 == 0:\n",
    "    print(f\"{no} is Even\")\n",
    "else:\n",
    "    print(f\"{no} is Odd\")"
   ]
  },
  {
   "cell_type": "markdown",
   "metadata": {},
   "source": [
    "8. Vowel Tester    \n",
    "Write a Python program to test whether a passed letter is a vowel or not"
   ]
  },
  {
   "cell_type": "code",
   "execution_count": null,
   "metadata": {},
   "outputs": [],
   "source": [
    "chrc = input(\"Enter Character: \")\n",
    "vowel = 'AaEeIiOoUu'\n",
    "if chrc in vowel:\n",
    "    print(f\"Letter {chrc} is Vowel\")\n",
    "else:\n",
    "    print(f\"Letter {chrc} is not Vowel\")"
   ]
  },
  {
   "cell_type": "markdown",
   "metadata": {},
   "source": [
    "9. Triangle area     \n",
    "Write a Python program that will accept the base and height of a triangle and compute the area"
   ]
  },
  {
   "cell_type": "code",
   "execution_count": null,
   "metadata": {},
   "outputs": [],
   "source": [
    "base = int(input(\"Enter magnitude of Triangle base: \"))\n",
    "height = int(input(\"Enter Magnitude of Triangle Height: \"))\n",
    "area = int(0.5 * base * height)\n",
    "print(f\"Area of a Triangle with height {height} and Base {base} is {area}\")\n"
   ]
  },
  {
   "cell_type": "markdown",
   "metadata": {},
   "source": [
    "10. Calculate Interest    \n",
    "Write a Python program to compute the future value of a specified principal amount, rate of interest, and a number of years"
   ]
  },
  {
   "cell_type": "code",
   "execution_count": 17,
   "metadata": {},
   "outputs": [
    {
     "name": "stdout",
     "output_type": "stream",
     "text": [
      "Enter the principle amount: 10000\n",
      "Enter the rate of interest in %: 10\n",
      "Enter the no of Years for investment: 5\n",
      "After 5 year your principle amount 10000 over interest rate of 10.0 will be 16105.1\n"
     ]
    }
   ],
   "source": [
    "pa = int(input(\"Enter the principle amount: \"))\n",
    "ri = float(input(\"Enter the rate of interest in %: \"))\n",
    "year = int(input(\"Enter the no of Years for investment: \"))\n",
    "# I = P(1 + rt)\n",
    "interest = pa*((1 + (ri/100)) ** year)\n",
    "print(f\"After {year} year your principle amount {pa} over interest rate of {ri} will be \" + str(round(interest, 2)) )"
   ]
  },
  {
   "cell_type": "markdown",
   "metadata": {},
   "source": [
    "11. Euclidean distance    \n",
    "Write a Python program to compute the distance between the points (x1, y1) and (x2, y2)."
   ]
  },
  {
   "cell_type": "code",
   "execution_count": 6,
   "metadata": {},
   "outputs": [
    {
     "name": "stdout",
     "output_type": "stream",
     "text": [
      "Enter Coordinate for X1: 2\n",
      "Enter Coordinate for X2: 4\n",
      "Enter Coordinate for X3: 4\n",
      "Enter Coordinate for X4: 4\n",
      "Distance between (2,4) and (4, 4) is 2\n"
     ]
    }
   ],
   "source": [
    "from math import sqrt\n",
    "x1 = int(input(\"Enter Coordinate for X1: \"))\n",
    "x2= int(input(\"Enter Coordinate for X2: \"))\n",
    "y1 = int(input(\"Enter Coordinate for X3: \"))\n",
    "y2 = int(input(\"Enter Coordinate for X4: \"))\n",
    "d = int(sqrt((y1 - x1)**2 + (y2 - x2)**2))  \n",
    "print(f\"Distance between ({x1},{y1}) and ({y2}, {x2}) is {d}\")"
   ]
  },
  {
   "cell_type": "markdown",
   "metadata": {},
   "source": [
    "12. Feet to Centimeter Converter   \n",
    "Write a Python program to convert height in feet to centimetres."
   ]
  },
  {
   "cell_type": "code",
   "execution_count": 8,
   "metadata": {},
   "outputs": [
    {
     "name": "stdout",
     "output_type": "stream",
     "text": [
      "Enter Height in feet: 5\n",
      "There are 152.4 Cn in 5.0 ft\n"
     ]
    }
   ],
   "source": [
    "feet = float(input(\"Enter Height in feet: \"))\n",
    "cm = 30.48 * feet\n",
    "print(f\"There are {cm} Cn in {feet} ft\")"
   ]
  },
  {
   "cell_type": "markdown",
   "metadata": {},
   "source": [
    "13. BMI Calculator    \n",
    "Write a Python program to calculate body mass index"
   ]
  },
  {
   "cell_type": "code",
   "execution_count": 12,
   "metadata": {},
   "outputs": [
    {
     "name": "stdout",
     "output_type": "stream",
     "text": [
      "Enter height in CM: 180\n",
      "Enter Wight in KG: 75\n",
      "Your BMI is:  23.15\n"
     ]
    }
   ],
   "source": [
    "height = float(input(\"Enter height in CM: \"))\n",
    "weight = float(input(\"Enter Wight in KG: \"))\n",
    "BMI = round(weight / (height/100 * height /100), 2)\n",
    "print(\"Your BMI is: \" , BMI)"
   ]
  },
  {
   "cell_type": "code",
   "execution_count": 14,
   "metadata": {},
   "outputs": [
    {
     "name": "stdout",
     "output_type": "stream",
     "text": [
      "Enter height in CM: 180\n",
      "Enter Wight in KG: 75\n",
      "Your BMI is:  23.15\n"
     ]
    }
   ],
   "source": [
    "# Second Attempt\n",
    "height = (float(input(\"Enter height in CM: \")))/100 # Conversion from cm to m... \n",
    "weight = float(input(\"Enter Wight in KG: \"))\n",
    "BMI = round(weight / (height** 2), 2)\n",
    "print(\"Your BMI is: \" , BMI)"
   ]
  },
  {
   "cell_type": "markdown",
   "metadata": {},
   "source": [
    "14. Sum of n Positive Integers    \n",
    "Write a python program to sum of the first n positive integers"
   ]
  },
  {
   "cell_type": "code",
   "execution_count": 27,
   "metadata": {},
   "outputs": [
    {
     "name": "stdout",
     "output_type": "stream",
     "text": [
      "Enter the value of n: 5\n",
      "sum of n positive integer till 5 is 15\n"
     ]
    }
   ],
   "source": [
    "sum1 = 0\n",
    "no = int(input(\"Enter the value of n: \"))\n",
    "for i in range(1,no + 1):\n",
    "    sum1 = sum1 + i\n",
    "print(f\"sum of n positive integer till {no} is {sum1}\")"
   ]
  },
  {
   "cell_type": "markdown",
   "metadata": {},
   "source": [
    "15. Digits Sum of a Number    \n",
    "Write a Python program to calculate the sum of the digits in an integer"
   ]
  },
  {
   "cell_type": "code",
   "execution_count": 29,
   "metadata": {},
   "outputs": [
    {
     "name": "stdout",
     "output_type": "stream",
     "text": [
      "Enter a no: 1234\n",
      "10\n"
     ]
    }
   ],
   "source": [
    "def sum_digits(n):\n",
    "    s = 0\n",
    "    while n:\n",
    "        s += n % 10\n",
    "        n //= 10\n",
    "    return s\n",
    "no = int(input(\"Enter a no: \"))\n",
    "print(sum_digits(no))"
   ]
  },
  {
   "cell_type": "markdown",
   "metadata": {},
   "source": [
    "16. Decimal to Binary Converter     \n",
    "Write a Python program to convert an decimal integer to binary"
   ]
  },
  {
   "cell_type": "code",
   "execution_count": 36,
   "metadata": {},
   "outputs": [
    {
     "name": "stdout",
     "output_type": "stream",
     "text": [
      "Enter any decimal number: 5\n",
      "1\n"
     ]
    }
   ],
   "source": [
    "def decimalToBinary(num):\n",
    "    \"\"\"This function converts decimal number\n",
    "    to binary and prints it\"\"\"\n",
    "    if num > 1:\n",
    "        decimalToBinary(num // 2)\n",
    "    print(num % 2, end='')\n",
    "\n",
    "\n",
    "# decimal number\n",
    "number = int(input(\"Enter any decimal number: \"))\n",
    "\n",
    "decimalToBinary(number)"
   ]
  },
  {
   "cell_type": "markdown",
   "metadata": {},
   "source": [
    "17. Binary to Decimal Converter    \n",
    "Write a program to convert binary number to Decimal number"
   ]
  },
  {
   "cell_type": "markdown",
   "metadata": {},
   "source": [
    "18. Vowel and Consonants Counter    \n",
    "Input a text and count the occurrences of vowels and consonant"
   ]
  },
  {
   "cell_type": "code",
   "execution_count": 46,
   "metadata": {},
   "outputs": [
    {
     "name": "stdout",
     "output_type": "stream",
     "text": [
      "Enter txt: QuickBrownFoxJumpsovertheDog\n",
      "Vowels:  9\n",
      "Consonants:  19\n"
     ]
    }
   ],
   "source": [
    "strng = input(\"Enter txt: \")\n",
    "vcounter = 0\n",
    "ccounter = 0\n",
    "vowel = 'AaEeIiOoUu'\n",
    "\n",
    "for v in strng:\n",
    "    if v in vowel:\n",
    "        vcounter = vcounter + 1\n",
    "    else:\n",
    "        ccounter = ccounter + 1\n",
    "print(\"Vowels: \", vcounter)\n",
    "print(\"Consonants: \", ccounter)"
   ]
  },
  {
   "cell_type": "markdown",
   "metadata": {},
   "source": [
    "19. Palindrome tester     \n",
    "Write a program to check whether given input is palindrome or not"
   ]
  },
  {
   "cell_type": "code",
   "execution_count": 49,
   "metadata": {},
   "outputs": [
    {
     "name": "stdout",
     "output_type": "stream",
     "text": [
      "Enter txt: Ayaz\n",
      "txt Ayaz is Not Palindrom\n"
     ]
    }
   ],
   "source": [
    "def isPalindrome(s): \n",
    "      \n",
    "    # Using predefined function to  \n",
    "    # reverse to string print(s) \n",
    "    rev = ''.join(reversed(s)) \n",
    "  \n",
    "    # Checking if both string are  \n",
    "    # equal or not \n",
    "    if (s == rev): \n",
    "        return 'Palindrom'\n",
    "    return 'Not Palindrom'\n",
    "txt = input(\"Enter txt: \")\n",
    "print(f\"text {txt} is {isPalindrome(txt)}\")"
   ]
  },
  {
   "cell_type": "markdown",
   "metadata": {},
   "source": [
    "20. Count Alphabets, Numbers and Special Characters    \n",
    "Write a Python program that accepts a string and calculate the number of digits and letters"
   ]
  },
  {
   "cell_type": "code",
   "execution_count": 55,
   "metadata": {},
   "outputs": [
    {
     "name": "stdout",
     "output_type": "stream",
     "text": [
      "Enter txt: Python 3.2\n",
      "Numbers:  2\n",
      "Alphabets:  6\n",
      "Special Characters:  1\n",
      "space:  1\n"
     ]
    }
   ],
   "source": [
    "strng = input(\"Enter txt: \")\n",
    "alphabets = digits = special = space = 0\n",
    "for st in range(len(strng)):\n",
    "    if(strng[st].isalpha()):\n",
    "        alphabets = alphabets + 1\n",
    "    elif(strng[st].isdigit()):\n",
    "        digits = digits + 1\n",
    "    elif(strng[st].isspace()):\n",
    "        space = space + 1\n",
    "    else:\n",
    "        special = special + 1\n",
    "print(\"Numbers: \", digits)\n",
    "print(\"Alphabets: \", alphabets)\n",
    "print(\"Special Characters: \", special)\n",
    "print(\"space: \", space)"
   ]
  },
  {
   "cell_type": "markdown",
   "metadata": {},
   "source": [
    "21. Write a Python program to construct the following pattern"
   ]
  },
  {
   "cell_type": "code",
   "execution_count": 73,
   "metadata": {},
   "outputs": [
    {
     "name": "stdout",
     "output_type": "stream",
     "text": [
      " *\n",
      " * *\n",
      " * * *\n",
      " * * * *\n",
      " * * * * *\n",
      " * * * *\n",
      " * * *\n",
      " * *\n",
      " *\n"
     ]
    }
   ],
   "source": [
    "for i in range(1 , 6):\n",
    "    for j in range(1, i+1):\n",
    "        print(\" *\", end = '')\n",
    "    print()\n",
    "for i in range(4, 0, -1):\n",
    "    for j in range(0, i):\n",
    "        print(\" *\", end = '')\n",
    "    print()"
   ]
  },
  {
   "cell_type": "markdown",
   "metadata": {},
   "source": [
    "22. Write a Python program to construct the following pattern"
   ]
  },
  {
   "cell_type": "code",
   "execution_count": 72,
   "metadata": {},
   "outputs": [
    {
     "name": "stdout",
     "output_type": "stream",
     "text": [
      " 1\n",
      " 1 2\n",
      " 1 2 3\n",
      " 1 2 3 4\n",
      " 1 2 3 4 5\n",
      " 1 2 3 4\n",
      " 1 2 3\n",
      " 1 2\n",
      " 1\n",
      "\n"
     ]
    }
   ],
   "source": [
    "for i in range(1 , 6):\n",
    "    for j in range(1, i+1):\n",
    "        print(f\" {j}\", end = '')\n",
    "    print()\n",
    "for i in range(5, 0, -1):\n",
    "    for j in range(1, i):\n",
    "        print(f\" {j}\", end = '')\n",
    "    print()"
   ]
  },
  {
   "cell_type": "markdown",
   "metadata": {},
   "source": [
    "23. Write a Python program to construct the following pattern"
   ]
  },
  {
   "cell_type": "code",
   "execution_count": 76,
   "metadata": {},
   "outputs": [
    {
     "name": "stdout",
     "output_type": "stream",
     "text": [
      "1\n",
      "22\n",
      "333\n",
      "4444\n",
      "55555\n",
      "666666\n",
      "7777777\n",
      "88888888\n",
      "999999999\n"
     ]
    }
   ],
   "source": [
    "for i in range(1, 10):\n",
    "    for j in range(1, i+1):\n",
    "        print(i, end = '')\n",
    "    print()"
   ]
  },
  {
   "cell_type": "markdown",
   "metadata": {},
   "source": [
    "24. Extra on Pattern \n"
   ]
  },
  {
   "cell_type": "code",
   "execution_count": 77,
   "metadata": {},
   "outputs": [
    {
     "name": "stdout",
     "output_type": "stream",
     "text": [
      "1\n",
      "12\n",
      "123\n",
      "1234\n",
      "12345\n",
      "123456\n",
      "1234567\n",
      "12345678\n",
      "123456789\n"
     ]
    }
   ],
   "source": [
    "for i in range(1, 10):\n",
    "    for j in range(1, i+1):\n",
    "        print(j, end = '')\n",
    "    print()"
   ]
  },
  {
   "cell_type": "code",
   "execution_count": null,
   "metadata": {},
   "outputs": [],
   "source": []
  }
 ],
 "metadata": {
  "kernelspec": {
   "display_name": "Python 3",
   "language": "python",
   "name": "python3"
  },
  "language_info": {
   "codemirror_mode": {
    "name": "ipython",
    "version": 3
   },
   "file_extension": ".py",
   "mimetype": "text/x-python",
   "name": "python",
   "nbconvert_exporter": "python",
   "pygments_lexer": "ipython3",
   "version": "3.7.1"
  }
 },
 "nbformat": 4,
 "nbformat_minor": 2
}
