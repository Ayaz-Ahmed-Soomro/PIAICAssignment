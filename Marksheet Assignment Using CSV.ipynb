{
 "cells": [
  {
   "cell_type": "code",
   "execution_count": null,
   "metadata": {},
   "outputs": [],
   "source": [
    "subjects =  [\"English\", \"Math\", \"Sindhi\", \"Chem\", \"Physics\"]\n",
    "obtain = 0\n",
    "total = 500\n",
    "sub = 100\n",
    "#print(subjects[0])\n",
    "\n",
    "    \n",
    "        \n",
    "        \n",
    "for i in range(len(subjects)):\n",
    "\n",
    "    #print(subjects[i])\n",
    "    subjects[i] = eval(input(f\"Enter the Marks of {subjects[i]} : \"))\n",
    "    obtain = obtain + subjects[i]\n",
    "per = obtain/total * 100\n",
    "subject =  [\"English\", \"Math\", \"Sindhi\", \"Chem\", \"Physics\"]\n",
    "with open(\"Marksheet.txt\", \"w\") as f:\n",
    "    f.write(\"=\" * 50)\n",
    "    f.write(\"\\t\\n Welcome to Our Marksheet\\n\")\n",
    "    f.write(\"=\" * 50)\n",
    "    f.write(\"\\nSubject: \\t total Marks \\t obtain Marks\\n\")\n",
    "    for i in range(len(subjects)):\n",
    "        f.write(f\"{subject[i]}\\t\\t {sub}\\t\\t\\t{subjects[i]}\\n\")\n",
    "    f.write(f\"total obtain marks are {obtain} , total Marks {total} percetage is : {per}\")\n",
    "    \n"
   ]
  },
  {
   "cell_type": "code",
   "execution_count": null,
   "metadata": {},
   "outputs": [],
   "source": []
  }
 ],
 "metadata": {
  "kernelspec": {
   "display_name": "Python 3",
   "language": "python",
   "name": "python3"
  },
  "language_info": {
   "codemirror_mode": {
    "name": "ipython",
    "version": 3
   },
   "file_extension": ".py",
   "mimetype": "text/x-python",
   "name": "python",
   "nbconvert_exporter": "python",
   "pygments_lexer": "ipython3",
   "version": "3.7.1"
  }
 },
 "nbformat": 4,
 "nbformat_minor": 2
}
